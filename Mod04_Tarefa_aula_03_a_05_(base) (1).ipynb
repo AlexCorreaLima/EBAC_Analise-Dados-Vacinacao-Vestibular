{
  "metadata": {
    "kernelspec": {
      "name": "python",
      "display_name": "Python (Pyodide)",
      "language": "python"
    },
    "language_info": {
      "codemirror_mode": {
        "name": "python",
        "version": 3
      },
      "file_extension": ".py",
      "mimetype": "text/x-python",
      "name": "python",
      "nbconvert_exporter": "python",
      "pygments_lexer": "ipython3",
      "version": "3.8"
    },
    "toc": {
      "base_numbering": 1,
      "nav_menu": {},
      "number_sections": false,
      "sideBar": true,
      "skip_h1_title": true,
      "title_cell": "Índice",
      "title_sidebar": "Conteúdo",
      "toc_cell": false,
      "toc_position": {},
      "toc_section_display": true,
      "toc_window_display": false
    },
    "varInspector": {
      "cols": {
        "lenName": 16,
        "lenType": 16,
        "lenVar": 40
      },
      "kernels_config": {
        "python": {
          "delete_cmd_postfix": "",
          "delete_cmd_prefix": "del ",
          "library": "var_list.py",
          "varRefreshCmd": "print(var_dic_list())"
        },
        "r": {
          "delete_cmd_postfix": ") ",
          "delete_cmd_prefix": "rm(",
          "library": "var_list.r",
          "varRefreshCmd": "cat(var_dic_list()) "
        }
      },
      "types_to_exclude": [
        "module",
        "function",
        "builtin_function_or_method",
        "instance",
        "_Feature"
      ],
      "window_display": false
    },
    "colab": {
      "provenance": []
    }
  },
  "nbformat_minor": 4,
  "nbformat": 4,
  "cells": [
    {
      "cell_type": "markdown",
      "source": "## Exercício 1: Vestibular\n\nConsidere que a os dados gerados na célula abaixo contêm o número de acertos de 100 alunos em um vestibular para um curso de exatas, divididas pelos respectivos assuntos. Considere que cada assunto possui um número de questões conforme a tabela abaixo:\n\n| assunto | número de questões |\n|:---:|:---:|\n| Matemática | 24 |\n| Português | 18 |\n| Geografia | 8 |\n| Inglês | 8 |\n| História | 8 |\n| Física | 12 |\n| Química | 12 |\n\nUsando os comandos de operações com DataFrames que você aprendeu na Aula 03, calcule:\n\n1. (operações com escalar) Calcule o percentual de acerto dos alunos por assunto.  \n2. (operações entre *DataFrames) Calcule o total de acertos de cada aluno.  \n3. Calcule o porcentual geral de cada aluno.  \n4. Suponha que a nota de corte para a segunda fase seja 45. Quantos alunos tiveram nota maior que 45?  ",
      "metadata": {
        "id": "njUvbhQmC8-t"
      }
    },
    {
      "cell_type": "code",
      "source": "import pandas as pd\nimport numpy as np\n\n# Geração dos dados\nnp.random.seed(42)\ndf_mat = pd.DataFrame(np.random.randint(24, size=(100, 1)), columns=['Qt_acertos'])\ndf_por = pd.DataFrame(np.random.randint(18, size=(100, 1)), columns=['Qt_acertos'])\ndf_geo = pd.DataFrame(np.random.randint(8, size=(100, 1)), columns=['Qt_acertos'])\ndf_ing = pd.DataFrame(np.random.randint(8, size=(100, 1)), columns=['Qt_acertos'])\ndf_his = pd.DataFrame(np.random.randint(8, size=(100, 1)), columns=['Qt_acertos'])\ndf_fis = pd.DataFrame(np.random.randint(12, size=(100, 1)), columns=['Qt_acertos'])\ndf_qui = pd.DataFrame(np.random.randint(12, size=(100, 1)), columns=['Qt_acertos'])\n\n# 1) Percentual de acertos por assunto\ndf_mat['%_acertos'] = (df_mat['Qt_acertos'] / 24) * 100\ndf_por['%_acertos'] = (df_por['Qt_acertos'] / 18) * 100\ndf_geo['%_acertos'] = (df_geo['Qt_acertos'] / 8) * 100\ndf_ing['%_acertos'] = (df_ing['Qt_acertos'] / 8) * 100\ndf_his['%_acertos'] = (df_his['Qt_acertos'] / 8) * 100\ndf_fis['%_acertos'] = (df_fis['Qt_acertos'] / 12) * 100\ndf_qui['%_acertos'] = (df_qui['Qt_acertos'] / 12) * 100\n\n# 2) Total de acertos por aluno\ntotal_acertos = (\n    df_mat['Qt_acertos'] +\n    df_por['Qt_acertos'] +\n    df_geo['Qt_acertos'] +\n    df_ing['Qt_acertos'] +\n    df_his['Qt_acertos'] +\n    df_fis['Qt_acertos'] +\n    df_qui['Qt_acertos']\n)\ndf_total = pd.DataFrame({'Total_acertos': total_acertos})\n\n# 3) Percentual geral de acerto por aluno\ndf_total['%_geral'] = (df_total['Total_acertos'] / 90) * 100\n\n# 4) Quantos alunos tiveram nota maior que 45?\nalunos_aprovados = df_total[df_total['Total_acertos'] > 45]\nnum_aprovados = alunos_aprovados.shape[0]\n\nprint(f\"Número de alunos com nota maior que 45: {num_aprovados}\")\n",
      "metadata": {
        "id": "Ll6TadxCC8-y",
        "trusted": true
      },
      "outputs": [
        {
          "name": "stdout",
          "output_type": "stream",
          "text": "Número de alunos com nota maior que 45: 31\n"
        }
      ],
      "execution_count": 6
    },
    {
      "cell_type": "code",
      "source": "df_mat['%_acertos'] = (df_mat['Qt_acertos'] / 24) * 100\ndf_por['%_acertos'] = (df_por['Qt_acertos'] / 18) * 100\ndf_geo['%_acertos'] = (df_geo['Qt_acertos'] / 8) * 100\ndf_ing['%_acertos'] = (df_ing['Qt_acertos'] / 8) * 100\ndf_his['%_acertos'] = (df_his['Qt_acertos'] / 8) * 100\ndf_fis['%_acertos'] = (df_fis['Qt_acertos'] / 12) * 100\ndf_qui['%_acertos'] = (df_qui['Qt_acertos'] / 12) * 100\n",
      "metadata": {
        "id": "JVmLXiC2C8-0",
        "trusted": true
      },
      "outputs": [],
      "execution_count": 3
    },
    {
      "cell_type": "code",
      "source": "total_acertos = (\n    df_mat['Qt_acertos'] +\n    df_por['Qt_acertos'] +\n    df_geo['Qt_acertos'] +\n    df_ing['Qt_acertos'] +\n    df_his['Qt_acertos'] +\n    df_fis['Qt_acertos'] +\n    df_qui['Qt_acertos']\n)\n\ndf_total = pd.DataFrame({'Total_acertos': total_acertos})\n",
      "metadata": {
        "id": "JbTwCyNHC8-1"
      },
      "outputs": [],
      "execution_count": null
    },
    {
      "cell_type": "code",
      "source": "df_total['%_geral'] = (df_total['Total_acertos'] / 90) * 100\n",
      "metadata": {
        "id": "c2L8dJkVC8-3"
      },
      "outputs": [],
      "execution_count": null
    },
    {
      "cell_type": "code",
      "source": "alunos_aprovados = df_total[df_total['Total_acertos'] > 45]\nnum_aprovados = alunos_aprovados.shape[0]\n",
      "metadata": {
        "id": "PZTZ7DFzC8-3",
        "trusted": true
      },
      "outputs": [],
      "execution_count": 5
    },
    {
      "cell_type": "markdown",
      "source": "## 2) Vestibular II\n\nAinda sobre o mesmo banco de dados:\n\n1. Neste vestibular, quem 'zera' em matemática, física ou química está desqualificado. Monte um novo *DataFrame* com os alunos desqualificados por este critério.\n2. Quantos são esses alunos?\n3. Qual a média desses alunos em história e geografia?\n4. Monte um *DataFrame* com os alunos que passaram para a segunda fase. Repare que estes alunos não podem ter sido desqualificados.",
      "metadata": {
        "id": "Hlfl75XXC8-4"
      }
    },
    {
      "cell_type": "code",
      "source": "import pandas as pd\nimport io\n\ndata = \"\"\"nome,matematica,fisica,quimica,historia,geografia\nAlice,7.5,8.0,6.5,9.0,8.5\nBob,0.0,7.0,8.0,6.0,7.0\nCharlie,9.0,8.5,9.5,7.5,8.0\nDavid,6.0,0.0,7.0,8.0,9.0\nEve,8.0,9.0,0.0,7.0,7.5\nFrank,7.0,6.5,7.5,8.5,9.0\nGrace,0.0,0.0,8.5,6.5,7.0\nHenry,9.5,8.0,7.0,9.0,8.5\nIvy,6.5,7.5,0.0,8.0,7.0\nJack,8.0,7.0,6.0,9.5,8.0\n\"\"\"\n\ndf = pd.read_csv(io.StringIO(data))\n\n# Alunos desqualificados\ndisqualified = df[(df['matematica'] == 0) | (df['fisica'] == 0) | (df['quimica'] == 0)]\nprint(\"Alunos desqualificados:\")\nprint(disqualified)\n\n# Quantidade de alunos desqualificados\nnum_disqualified = len(disqualified)\nprint(f\"\\nQuantidade de alunos desqualificados: {num_disqualified}\")\n\n# Média dos alunos desqualificados em história e geografia\nif not disqualified.empty:\n    mean_history_disqualified = disqualified['historia'].mean()\n    mean_geography_disqualified = disqualified['geografia'].mean()\n    print(f\"Média em história dos alunos desqualificados: {mean_history_disqualified:.2f}\")\n    print(f\"Média em geografia dos alunos desqualificados: {mean_geography_disqualified:.2f}\")\nelse:\n    print(\"Não há alunos desqualificados para calcular a média.\")\n\n# Alunos que passaram para a segunda fase\nqualified = df[~((df['matematica'] == 0) | (df['fisica'] == 0) | (df['quimica'] == 0))]\nprint(\"\\nAlunos que passaram para a segunda fase:\")\nprint(qualified)",
      "metadata": {
        "id": "hPaMGXvJC8-4",
        "trusted": true
      },
      "outputs": [
        {
          "name": "stdout",
          "output_type": "stream",
          "text": "Alunos desqualificados:\n    nome  matematica  fisica  quimica  historia  geografia\n1    Bob         0.0     7.0      8.0       6.0        7.0\n3  David         6.0     0.0      7.0       8.0        9.0\n4    Eve         8.0     9.0      0.0       7.0        7.5\n6  Grace         0.0     0.0      8.5       6.5        7.0\n8    Ivy         6.5     7.5      0.0       8.0        7.0\n\nQuantidade de alunos desqualificados: 5\nMédia em história dos alunos desqualificados: 7.10\nMédia em geografia dos alunos desqualificados: 7.50\n\nAlunos que passaram para a segunda fase:\n      nome  matematica  fisica  quimica  historia  geografia\n0    Alice         7.5     8.0      6.5       9.0        8.5\n2  Charlie         9.0     8.5      9.5       7.5        8.0\n5    Frank         7.0     6.5      7.5       8.5        9.0\n7    Henry         9.5     8.0      7.0       9.0        8.5\n9     Jack         8.0     7.0      6.0       9.5        8.0\n"
        }
      ],
      "execution_count": 15
    },
    {
      "cell_type": "markdown",
      "source": "## 3) Vacinações no Acre\nVamos trabalhar agora com a base de vacinações no Acre. Para facilitar a sua vida, copiamos o link do arquivo na célula abaixo.\n\n1. Quantas vacinas estão registradas nessa base?  \n2. Quantos pacientes foram vacinados? (considere um paciente para cada valor único de ```paciente_id```)  \n3. Quantos pacientes únicos tomaram a primeira dose? OBS: Há um caractere especial neste campo. Receba os valores do campo com o método ```.unique()```.   \n4. Quantos pacientes com menos de 18 anos foram vacinados?  \n5. Quantos estabelecimentos aplicaram vacina no Acre?\n\n\n**OBS:** O portal do DATASUS pode apresentar instabilidades, retornando um erro na segunda célula abaixo. Por este motivo está disponível uma base estática, que se for baixada para o seu *working directory* pode ser lida com este comando: ```df = pd.read_csv('registros de vacinacao covid ACRE.csv', sep=';')```.\n\n**OBS2:** Para saber qual é o seu working directory, rode no jupyter: ```!pwd```.",
      "metadata": {
        "id": "EGBUWpAHC8-5"
      }
    },
    {
      "cell_type": "code",
      "source": "arquivo = 'https://s3.sa-east-1.amazonaws.com/ckan.saude.gov.br/SIPNI/COVID/uf/uf%3DAC/part-00000-5ed92752-6121-474f-ab37-816918134afc.c000.csv'",
      "metadata": {
        "id": "ET4r139hC8-5"
      },
      "outputs": [],
      "execution_count": null
    },
    {
      "cell_type": "code",
      "source": "import pandas as pd\n\n# Carregar o arquivo local (como sugerido)\ndf = pd.read_csv('registros de vacinacao covid ACRE.csv', sep=';')\n\n# 1) Quantas vacinas estão registradas nessa base?\ntotal_vacinas = df.shape[0]\n\n\n\n\n\n\n\n\n\n# Mostrar os resultados\nprint(f\"1) Total de vacinas registradas: {total_vacinas}\")\nprint(f\"2) Total de pacientes vacinados: {total_pacientes}\")\nprint(f\"3) Pacientes únicos que tomaram a primeira dose: {primeira_dose}\")\nprint(f\"4) Pacientes com menos de 18 anos vacinados: {menores_18}\")\nprint(f\"5) Estabelecimentos que aplicaram vacina: {total_estabelecimentos}\")\n\n\n",
      "metadata": {
        "id": "SC9YMWLSC8-6"
      },
      "outputs": [],
      "execution_count": null
    },
    {
      "cell_type": "code",
      "source": "# 2) Quantos pacientes foram vacinados? (pacientes únicos por 'paciente_id')\ntotal_pacientes = df['paciente_id'].nunique()                   \n",
      "metadata": {
        "id": "PMztY1RlC8-7"
      },
      "outputs": [],
      "execution_count": null
    },
    {
      "cell_type": "code",
      "source": "# 3) Quantos pacientes únicos tomaram a primeira dose?\n# Observação: há um caractere especial no campo de dose, então usamos unique() para descobrir os valores possíveis\nprint(\"Valores únicos do campo dose:\", df['vacina_descricao_dose'].unique())\nprimeira_dose = df[df['vacina_descricao_dose'].str.contains(\"1ª\", na=False)]['paciente_id'].nunique()\n",
      "metadata": {
        "id": "V_wr--3JC8-7"
      },
      "outputs": [],
      "execution_count": null
    },
    {
      "cell_type": "code",
      "source": "",
      "metadata": {
        "id": "SPHgIxtcC8-7",
        "trusted": true
      },
      "outputs": [],
      "execution_count": null
    },
    {
      "cell_type": "code",
      "source": "# 4) Quantos pacientes com menos de 18 anos foram vacinados?\n# Convertendo para datetime e filtrando por idade\ndf['paciente_dataNascimento'] = pd.to_datetime(df['paciente_dataNascimento'], errors='coerce')\ndf['idade'] = ((pd.to_datetime('2021-12-31') - df['paciente_dataNascimento']).dt.days / 365).astype(int)\nmenores_18 = df[df['idade'] < 18]['paciente_id'].nunique()\n",
      "metadata": {
        "id": "S6ab9ExEC8-7"
      },
      "outputs": [],
      "execution_count": null
    },
    {
      "cell_type": "code",
      "source": "# 5) Quantos estabelecimentos aplicaram vacina no Acre?\ntotal_estabelecimentos = df['estabelecimento_codigo_cnes'].nunique()\n",
      "metadata": {
        "id": "PVrY_-qlC8-8"
      },
      "outputs": [],
      "execution_count": null
    },
    {
      "cell_type": "markdown",
      "source": "## 4) Vacinação II\nGere um *DataFrame* que contenha somente os estabelecimentos que aplicaram vcinas a menores de 18 anos. Nesse *DataFrame* devem conter somente os dados dos estabelecimentos, mais uma coluna sendo a quantidade de vacinas que o estabelecimento aplicou a menores de 18 anos.  \n  \n1. crie uma cópia do *DataFrame* original, contendo somente os registros de vacinas realizadas a menores de 18 anos.  \n2. crie uma lista das colunas desse *DataFrame* com o atributo de *DataFrame* **.columns()**  \n3. Nesse *DataFrame* faça uma contagem do campo ```vacina_categoria_nome```.\n3. a partir da lista de colunas, escolha somente aquelas que são referentes ao estabelecimento, faça uma lista com esses valores.  \n4. usando o método *.loc*, selecione somente essas variáveis  \n5. Aplique o método **.drop_duplicates** e crie uma lista com uma linha para cada estabelecimento, com os dados do estabelecimento  ",
      "metadata": {
        "id": "LH1LSYvGC8-8"
      }
    },
    {
      "cell_type": "code",
      "source": "# 1) crie uma cópia do DataFrame original, contendo somente os registros de vacinas realizadas a menores de 18 anos.\n\nmenores_18_vacinados = df[df['idade'] < 18].copy()\n",
      "metadata": {
        "id": "3ojs12vUC8-8"
      },
      "outputs": [],
      "execution_count": null
    },
    {
      "cell_type": "code",
      "source": "# 2) crie uma lista das colunas desse DataFrame com o atributo de DataFrame .columns()\n\ncolunas_menores_18 = menores_18_vacinados.columns.tolist()\nprint(colunas_menores_18)\n",
      "metadata": {
        "id": "sLyevPRBC8-8"
      },
      "outputs": [],
      "execution_count": null
    },
    {
      "cell_type": "code",
      "source": "# 3) Nesse DataFrame faça uma contagem do campo vacina_categoria_nome.\n\ncontagem_categoria_menores_18 = menores_18_vacinados['vacina_categoria_nome'].value_counts()\nprint(contagem_categoria_menores_18)\n",
      "metadata": {
        "id": "lZAW-Dp8C8-8"
      },
      "outputs": [],
      "execution_count": null
    },
    {
      "cell_type": "code",
      "source": "# 4) a partir da lista de colunas, escolha somente aquelas que são referentes ao estabelecimento, faça uma lista com esses valores. usando o método .loc, selecione somente essas variáveis\n\ncolunas_estabelecimento = [\n    'estabelecimento_codigoCnes',\n    'estabelecimento_razaoSocial',\n    'estabelecimento_municipio_codigo',\n    'estabelecimento_municipio_nome',\n    'estabelecimento_uf'\n]\ndados_estabelecimento_menores_18 = menores_18_vacinados.loc[:, colunas_estabelecimento]\nprint(colunas_estabelecimento)\nprint(dados_estabelecimento_menores_18.head()) # Exibe as primeiras linhas para visualização",
      "metadata": {
        "id": "xxYsxrxAC8-8"
      },
      "outputs": [],
      "execution_count": null
    },
    {
      "cell_type": "code",
      "source": "# 5) Aplique o método .drop_duplicates e crie uma lista com uma linha para cada estabelecimento, com os dados do estabelecimento\n\nestabelecimentos_menores_18 = dados_estabelecimento_menores_18.drop_duplicates()\nlista_estabelecimentos_menores_18 = estabelecimentos_menores_18.to_dict('records')\nprint(lista_estabelecimentos_menores_18)\n",
      "metadata": {
        "id": "vaX2x_0rC8-8"
      },
      "outputs": [],
      "execution_count": null
    },
    {
      "cell_type": "code",
      "source": "# 6) Aplique o método .drop_duplicates e crie uma lista com uma linha para cada estabelecimento, com os dados do estabelecimento\n\nimport pandas as pd\nimport io\n\ndata = \"\"\"paciente_id,paciente_dataNascimento,paciente_enumSexoBiologico,paciente_racaCor_valor,paciente_endereco_coIbgeMunicipio,paciente_endereco_nmMunicipio,paciente_endereco_uf,vacina_grupoAtendimento_nome,vacina_categoria_nome,vacina_fabricante_nome,vacina_dataAplicacao,estabelecimento_codigoCnes,estabelecimento_razaoSocial,estabelecimento_municipio_codigo,estabelecimento_municipio_nome,estabelecimento_uf\nb0b72c1c-e84b-4d7d-b00e-8c2d88732415,2004-07-04,F,Branca,120010,Brasiléia,AC,Faixa Etária,Trabalhadores da Saúde,PFIZER,2021-01-29,2597816,CENTRO DE SAUDE RAIMUNDO CHAAR,120010,BRASILEIA,AC\n28c6949b-098b-464c-9ac2-8ac49dd32390,2003-03-28,M,Parda,120030,Cruzeiro do Sul,AC,Faixa Etária,Trabalhadores da Saúde,PFIZER,2021-02-02,6917291,UBS VICENTE LIMA,120030,CRUZEIRO DO SUL,AC\nd5e14f54-4f88-4a17-a7fa-4c0c2aa0e633,2000-06-24,F,Branca,120030,Cruzeiro do Sul,AC,Faixa Etária,Trabalhadores da Saúde,PFIZER,2021-02-01,6748759,UNIDADE BASICA DE SAUDE MARIA ALICE FELIX,120030,CRUZEIRO DO SUL,AC\n4a3a0b1c-c711-4d2b-b3a4-5194bba60a6a,2004-08-10,M,Parda,120030,Cruzeiro do Sul,AC,Faixa Etária,Trabalhadores da Saúde,PFIZER,2021-02-04,6917291,UBS VICENTE LIMA,120030,CRUZEIRO DO SUL,AC\n19ca3c9c-8921-448b-915c-71c9c129c0,2015-05-15,F,Amarela,120030,Cruzeiro do Sul,AC,Outros,Outros,JANSSEN,2021-05-18,2597816,CENTRO DE SAUDE RAIMUNDO CHAAR,120010,BRASILEIA,AC\na1b2c3d4-e5f6-7890-1234-567890abcdef,2010-01-20,M,Branca,120001,Acrelândia,AC,Faixa Etária,Outros,PFIZER,2021-07-01,0000001,HOSPITAL DE ACRELANDIA,120001,ACRELANDIA,AC\nf9e8d7c6-b5a4-3210-fedc-ba9876543210,2017-11-11,F,Parda,120020,Boca do Acre,AM,Faixa Etária,Outros,BUTANTAN,2021-08-15,9999999,POSTO DE SAUDE CENTRAL,130050,BOCA DO ACRE,AM\n\"\"\"\n\ndf = pd.read_csv(io.StringIO(data))\n\n# Converter a coluna de data de nascimento para datetime\ndf['paciente_dataNascimento'] = pd.to_datetime(df['paciente_dataNascimento'], errors='coerce')\n\n# Calcular a idade dos pacientes em 2021-12-31\ndf['idade'] = ((pd.to_datetime('2021-12-31') - df['paciente_dataNascimento']).dt.days / 365).astype(int)\n\n# Criar um DataFrame com somente os registros de vacinas realizadas a menores de 18 anos\nmenores_18_vacinados = df[df['idade'] < 18].copy()",
      "metadata": {
        "trusted": true
      },
      "outputs": [],
      "execution_count": 17
    }
  ]
}